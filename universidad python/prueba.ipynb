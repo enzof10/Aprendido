{
    "cells": [
        {
            "cell_type": "code",
            "execution_count": 25,
            "source": [
                "condicion = False\r\n",
                "\r\n",
                "if condicion:\r\n",
                "    print(\"codicion vedadera\")\r\n",
                "else:\r\n",
                "    print(\"condicion falsa\")\r\n",
                "\r\n",
                "\r\n",
                "# operador ternario\r\n",
                "print(\"condicion verdadera\") if condicion else(\"condicion falsa\")\r\n"
            ],
            "outputs": [
                {
                    "output_type": "stream",
                    "name": "stdout",
                    "text": [
                        "Loss numeros son iguales\n"
                    ]
                }
            ],
            "metadata": {}
        }
    ],
    "metadata": {
        "orig_nbformat": 4,
        "language_info": {
            "name": "python",
            "version": "3.8.9",
            "mimetype": "text/x-python",
            "codemirror_mode": {
                "name": "ipython",
                "version": 3
            },
            "pygments_lexer": "ipython3",
            "nbconvert_exporter": "python",
            "file_extension": ".py"
        },
        "kernelspec": {
            "name": "python3",
            "display_name": "Python 3.8.9 64-bit"
        },
        "interpreter": {
            "hash": "03b061aa7c6fd637061d6c63721b2082e43bd47970b49542c9dca70d91b48fc8"
        }
    },
    "nbformat": 4,
    "nbformat_minor": 2
}